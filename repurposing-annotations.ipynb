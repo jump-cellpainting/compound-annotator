{
 "cells": [
  {
   "attachments": {},
   "cell_type": "markdown",
   "metadata": {},
   "source": [
    "# Create Drug Repurposing Hub annotation file"
   ]
  },
  {
   "attachments": {},
   "cell_type": "markdown",
   "metadata": {},
   "source": [
    "This notebook creates a Drug Repurposing Hub annotation file from the Drug Repurposing Hub data.\n",
    "\n",
    "Steps\n",
    "\n",
    "- Read in SMILES and pert_name from samples file\n",
    "- Standardize SMILES and get the corresponding InChIKey\n",
    "- Create a dictionary of InChIKey to pert_name\n",
    "- Read in drug annotations from drug file, indexed by pert_name\n",
    "- Create a single dataframe with pert_name, InChIKey, and drug annotations -- save this as `compound_annot_drug_full.csv`\n",
    "- Get InChIKey to JCP2022 mapping\n",
    "- Filter `compound_annot_drug_full.csv` to only include compounds that have a JCP2022 mapping -- save this as `compound_annot_drug.csv`"
   ]
  },
  {
   "attachments": {},
   "cell_type": "markdown",
   "metadata": {},
   "source": [
    "# Prepare data\n"
   ]
  },
  {
   "cell_type": "code",
   "execution_count": 4,
   "metadata": {
    "vscode": {
     "languageId": "shellscript"
    }
   },
   "outputs": [],
   "source": [
    "%%bash\n",
    "wget -q https://s3.amazonaws.com/data.clue.io/repurposing/downloads/repurposing_samples_20200324.txt -O data/repurposing_samples_20200324.txt\n",
    "\n",
    "cat data/repurposing_samples_20200324.txt | grep -v \"^\\!\" | gzip > data/repurposing_samples_20200324_cleaned.txt.gz\n",
    "\n",
    "rm data/repurposing_samples_20200324.txt\n"
   ]
  },
  {
   "attachments": {},
   "cell_type": "markdown",
   "metadata": {},
   "source": [
    "- Read in SMILES and pert_name from samples file\n",
    "- Standardize SMILES and get the corresponding InChIKey"
   ]
  },
  {
   "cell_type": "code",
   "execution_count": 5,
   "metadata": {
    "vscode": {
     "languageId": "shellscript"
    }
   },
   "outputs": [
    {
     "name": "stderr",
     "output_type": "stream",
     "text": [
      "Traceback (most recent call last):\n",
      "  File \"/Users/shsingh/work/projects/2019_07_11_JUMP-CP/workspace/software/compound-annotator/StandardizeMolecule.py\", line 260, in <module>\n",
      "    fire.Fire(StandardizeMolecule)\n",
      "  File \"/Users/shsingh/mambaforge/envs/compound-annotator/lib/python3.10/site-packages/fire/core.py\", line 141, in Fire\n",
      "    component_trace = _Fire(component, args, parsed_flag_args, context, name)\n",
      "  File \"/Users/shsingh/mambaforge/envs/compound-annotator/lib/python3.10/site-packages/fire/core.py\", line 475, in _Fire\n",
      "    component, remaining_args = _CallAndUpdateTrace(\n",
      "  File \"/Users/shsingh/mambaforge/envs/compound-annotator/lib/python3.10/site-packages/fire/core.py\", line 691, in _CallAndUpdateTrace\n",
      "    component = fn(*varargs, **kwargs)\n",
      "  File \"/Users/shsingh/work/projects/2019_07_11_JUMP-CP/workspace/software/compound-annotator/StandardizeMolecule.py\", line 221, in run\n",
      "    self._load_input()\n",
      "  File \"/Users/shsingh/work/projects/2019_07_11_JUMP-CP/workspace/software/compound-annotator/StandardizeMolecule.py\", line 177, in _load_input\n",
      "    skiprows=self.skip_rows_bang(self.input),\n",
      "  File \"/Users/shsingh/work/projects/2019_07_11_JUMP-CP/workspace/software/compound-annotator/StandardizeMolecule.py\", line 151, in skip_rows_bang\n",
      "    lines = f.readlines()\n",
      "  File \"/Users/shsingh/mambaforge/envs/compound-annotator/lib/python3.10/codecs.py\", line 322, in decode\n",
      "    (result, consumed) = self._buffer_decode(data, self.errors, final)\n",
      "UnicodeDecodeError: 'utf-8' codec can't decode byte 0x8b in position 1: invalid start byte\n"
     ]
    },
    {
     "ename": "CalledProcessError",
     "evalue": "Command 'b'python \\\\\\n    StandardizeMolecule.py \\\\\\n    --num_cpu 7 \\\\\\n    --limit_rows 20 \\\\\\n    --augment \\\\\\n    --input data/repurposing_samples_20200324_cleaned.txt.gz \\\\\\n    --output data/repurposing_samples_20200324_standardized.csv \\\\\\n    run\\n'' returned non-zero exit status 1.",
     "output_type": "error",
     "traceback": [
      "\u001b[0;31m---------------------------------------------------------------------------\u001b[0m",
      "\u001b[0;31mCalledProcessError\u001b[0m                        Traceback (most recent call last)",
      "Cell \u001b[0;32mIn[5], line 1\u001b[0m\n\u001b[0;32m----> 1\u001b[0m get_ipython()\u001b[39m.\u001b[39;49mrun_cell_magic(\u001b[39m'\u001b[39;49m\u001b[39mbash\u001b[39;49m\u001b[39m'\u001b[39;49m, \u001b[39m'\u001b[39;49m\u001b[39m'\u001b[39;49m, \u001b[39m'\u001b[39;49m\u001b[39mpython \u001b[39;49m\u001b[39m\\\\\u001b[39;49;00m\u001b[39m\\n\u001b[39;49;00m\u001b[39m    StandardizeMolecule.py \u001b[39;49m\u001b[39m\\\\\u001b[39;49;00m\u001b[39m\\n\u001b[39;49;00m\u001b[39m    --num_cpu 7 \u001b[39;49m\u001b[39m\\\\\u001b[39;49;00m\u001b[39m\\n\u001b[39;49;00m\u001b[39m    --limit_rows 20 \u001b[39;49m\u001b[39m\\\\\u001b[39;49;00m\u001b[39m\\n\u001b[39;49;00m\u001b[39m    --augment \u001b[39;49m\u001b[39m\\\\\u001b[39;49;00m\u001b[39m\\n\u001b[39;49;00m\u001b[39m    --input data/repurposing_samples_20200324_cleaned.txt.gz \u001b[39;49m\u001b[39m\\\\\u001b[39;49;00m\u001b[39m\\n\u001b[39;49;00m\u001b[39m    --output data/repurposing_samples_20200324_standardized.csv \u001b[39;49m\u001b[39m\\\\\u001b[39;49;00m\u001b[39m\\n\u001b[39;49;00m\u001b[39m    run\u001b[39;49m\u001b[39m\\n\u001b[39;49;00m\u001b[39m'\u001b[39;49m)\n",
      "File \u001b[0;32m~/mambaforge/envs/compound-annotator/lib/python3.10/site-packages/IPython/core/interactiveshell.py:2475\u001b[0m, in \u001b[0;36mInteractiveShell.run_cell_magic\u001b[0;34m(self, magic_name, line, cell)\u001b[0m\n\u001b[1;32m   2473\u001b[0m \u001b[39mwith\u001b[39;00m \u001b[39mself\u001b[39m\u001b[39m.\u001b[39mbuiltin_trap:\n\u001b[1;32m   2474\u001b[0m     args \u001b[39m=\u001b[39m (magic_arg_s, cell)\n\u001b[0;32m-> 2475\u001b[0m     result \u001b[39m=\u001b[39m fn(\u001b[39m*\u001b[39;49margs, \u001b[39m*\u001b[39;49m\u001b[39m*\u001b[39;49mkwargs)\n\u001b[1;32m   2477\u001b[0m \u001b[39m# The code below prevents the output from being displayed\u001b[39;00m\n\u001b[1;32m   2478\u001b[0m \u001b[39m# when using magics with decodator @output_can_be_silenced\u001b[39;00m\n\u001b[1;32m   2479\u001b[0m \u001b[39m# when the last Python token in the expression is a ';'.\u001b[39;00m\n\u001b[1;32m   2480\u001b[0m \u001b[39mif\u001b[39;00m \u001b[39mgetattr\u001b[39m(fn, magic\u001b[39m.\u001b[39mMAGIC_OUTPUT_CAN_BE_SILENCED, \u001b[39mFalse\u001b[39;00m):\n",
      "File \u001b[0;32m~/mambaforge/envs/compound-annotator/lib/python3.10/site-packages/IPython/core/magics/script.py:153\u001b[0m, in \u001b[0;36mScriptMagics._make_script_magic.<locals>.named_script_magic\u001b[0;34m(line, cell)\u001b[0m\n\u001b[1;32m    151\u001b[0m \u001b[39melse\u001b[39;00m:\n\u001b[1;32m    152\u001b[0m     line \u001b[39m=\u001b[39m script\n\u001b[0;32m--> 153\u001b[0m \u001b[39mreturn\u001b[39;00m \u001b[39mself\u001b[39;49m\u001b[39m.\u001b[39;49mshebang(line, cell)\n",
      "File \u001b[0;32m~/mambaforge/envs/compound-annotator/lib/python3.10/site-packages/IPython/core/magics/script.py:305\u001b[0m, in \u001b[0;36mScriptMagics.shebang\u001b[0;34m(self, line, cell)\u001b[0m\n\u001b[1;32m    300\u001b[0m \u001b[39mif\u001b[39;00m args\u001b[39m.\u001b[39mraise_error \u001b[39mand\u001b[39;00m p\u001b[39m.\u001b[39mreturncode \u001b[39m!=\u001b[39m \u001b[39m0\u001b[39m:\n\u001b[1;32m    301\u001b[0m     \u001b[39m# If we get here and p.returncode is still None, we must have\u001b[39;00m\n\u001b[1;32m    302\u001b[0m     \u001b[39m# killed it but not yet seen its return code. We don't wait for it,\u001b[39;00m\n\u001b[1;32m    303\u001b[0m     \u001b[39m# in case it's stuck in uninterruptible sleep. -9 = SIGKILL\u001b[39;00m\n\u001b[1;32m    304\u001b[0m     rc \u001b[39m=\u001b[39m p\u001b[39m.\u001b[39mreturncode \u001b[39mor\u001b[39;00m \u001b[39m-\u001b[39m\u001b[39m9\u001b[39m\n\u001b[0;32m--> 305\u001b[0m     \u001b[39mraise\u001b[39;00m CalledProcessError(rc, cell)\n",
      "\u001b[0;31mCalledProcessError\u001b[0m: Command 'b'python \\\\\\n    StandardizeMolecule.py \\\\\\n    --num_cpu 7 \\\\\\n    --limit_rows 20 \\\\\\n    --augment \\\\\\n    --input data/repurposing_samples_20200324_cleaned.txt.gz \\\\\\n    --output data/repurposing_samples_20200324_standardized.csv \\\\\\n    run\\n'' returned non-zero exit status 1."
     ]
    }
   ],
   "source": [
    "%%bash\n",
    "python \\\n",
    "    StandardizeMolecule.py \\\n",
    "    --num_cpu 7 \\\n",
    "    --limit_rows 20 \\\n",
    "    --augment \\\n",
    "    --input data/repurposing_samples_20200324_cleaned.txt.gz \\\n",
    "    --output data/repurposing_samples_20200324_standardized.csv \\\n",
    "    run"
   ]
  },
  {
   "attachments": {},
   "cell_type": "markdown",
   "metadata": {},
   "source": [
    "# Create annotation file"
   ]
  },
  {
   "cell_type": "code",
   "execution_count": null,
   "metadata": {},
   "outputs": [],
   "source": [
    "import pandas as pd"
   ]
  },
  {
   "attachments": {},
   "cell_type": "markdown",
   "metadata": {},
   "source": [
    "- Create a dictionary of InChIKey to pert_name"
   ]
  },
  {
   "cell_type": "code",
   "execution_count": null,
   "metadata": {},
   "outputs": [],
   "source": [
    "inchikey__pert_iname = pd.read_csv(\"data/repurposing_samples_20200324_standardized.csv\")\n",
    "inchikey__pert_iname = inchikey__pert_iname[['InChIKey_standardized', 'pert_iname']]\n",
    "inchikey__pert_iname.drop_duplicates(inplace=True)\n",
    "inchikey__pert_iname.rename(columns={'InChIKey_standardized': 'InChIKey'}, inplace=True)\n"
   ]
  },
  {
   "cell_type": "code",
   "execution_count": null,
   "metadata": {
    "vscode": {
     "languageId": "shellscript"
    }
   },
   "outputs": [],
   "source": [
    "%%bash\n",
    "wget -q https://s3.amazonaws.com/data.clue.io/repurposing/downloads/repurposing_drugs_20200324.txt -O data/repurposing_drugs_20200324.txt\n",
    "\n",
    "cat data/repurposing_drugs_20200324.txt | grep -v \"^\\!\" | gzip > data/repurposing_drugs_20200324_cleaned.txt\n",
    "\n",
    "rm data/repurposing_drugs_20200324.txt"
   ]
  },
  {
   "attachments": {},
   "cell_type": "markdown",
   "metadata": {},
   "source": [
    "- Read in drug annotations from drug file, indexed by pert_name\n",
    "- Create a single dataframe with pert_name, InChIKey, and drug annotations -- save this as `compound_annot_drug_full.csv`\n"
   ]
  },
  {
   "cell_type": "code",
   "execution_count": null,
   "metadata": {},
   "outputs": [],
   "source": [
    "pert_iname__annotations = pd.read_csv(\"data/repurposing_drugs_20200324_cleaned.txt\", sep=\"\\t\")\n",
    "\n",
    "inchikey__annotations = pd.merge(\n",
    "    inchikey__pert_iname, \n",
    "    pert_iname__annotations, \n",
    "    on='pert_iname', \n",
    "    how='inner')\n",
    "\n",
    "# save this as `compound_annot_drug_full.csv`\n",
    "\n",
    "inchikey__annotations.to_csv(\"data/compound_annot_drug_full.csv.gz\", index=False)\n"
   ]
  },
  {
   "attachments": {},
   "cell_type": "markdown",
   "metadata": {},
   "source": [
    "- Get InChIKey to JCP2022 mapping\n",
    "- Filter `compound_annot_drug_full.csv` to only include compounds that have a JCP2022 mapping -- save this as `compound_annot_drug.csv`"
   ]
  },
  {
   "cell_type": "code",
   "execution_count": null,
   "metadata": {},
   "outputs": [],
   "source": [
    "commit=\"0682dd2d52e4d68208ab4af3a0bd114ca557cb0e\"\n",
    "\n",
    "url = f\"https://raw.githubusercontent.com/jump-cellpainting/datasets/{commit}/metadata/compound.csv.gz\"\n",
    "\n",
    "compound = pd.read_csv(url)\n",
    "\n",
    "inchikey__annotations_filtered = inchikey__annotations.copy()\n",
    "\n",
    "inchikey__annotations_filtered.columns = \"Metadata_\" + inchikey__annotations_filtered.columns\n",
    "\n",
    "inchikey__annotations_filtered = inchikey__annotations_filtered[inchikey__annotations_filtered[\"Metadata_InChIKey\"].isin(compound[\"Metadata_InChIKey\"])]\n",
    "\n",
    "inchikey__annotations_filtered.to_csv(\"data/compound_annot_drug.csv.gz\", index=False)\n",
    "\n",
    "inchikey__annotations_filtered.iloc[0]"
   ]
  }
 ],
 "metadata": {
  "kernelspec": {
   "display_name": "Python 3",
   "language": "python",
   "name": "python3"
  },
  "language_info": {
   "codemirror_mode": {
    "name": "ipython",
    "version": 3
   },
   "file_extension": ".py",
   "mimetype": "text/x-python",
   "name": "python",
   "nbconvert_exporter": "python",
   "pygments_lexer": "ipython3",
   "version": "3.10.10"
  },
  "orig_nbformat": 4
 },
 "nbformat": 4,
 "nbformat_minor": 2
}
