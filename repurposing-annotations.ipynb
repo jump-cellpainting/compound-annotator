{
 "cells": [
  {
   "attachments": {},
   "cell_type": "markdown",
   "metadata": {},
   "source": [
    "# Create Drug Repurposing Hub annotation file"
   ]
  },
  {
   "attachments": {},
   "cell_type": "markdown",
   "metadata": {},
   "source": [
    "This notebook creates a Drug Repurposing Hub annotation file from the Drug Repurposing Hub data.\n",
    "\n",
    "Steps\n",
    "\n",
    "- Read in SMILES and pert_name from samples file\n",
    "- Standardize SMILES and get the corresponding InChIKey\n",
    "- Create a dictionary of InChIKey to pert_name\n",
    "- Read in drug annotations from drug file, indexed by pert_name\n",
    "- Create a single dataframe with pert_name, InChIKey, and drug annotations -- save this as `compound_annot_drug_full.csv`\n",
    "- Get InChIKey to JCP2022 mapping\n",
    "- Filter `compound_annot_drug_full.csv` to only include compounds that have a JCP2022 mapping -- save this as `compound_annot_drug.csv`"
   ]
  },
  {
   "attachments": {},
   "cell_type": "markdown",
   "metadata": {},
   "source": [
    "# Prepare data\n"
   ]
  },
  {
   "cell_type": "code",
   "execution_count": 14,
   "metadata": {
    "vscode": {
     "languageId": "shellscript"
    }
   },
   "outputs": [],
   "source": [
    "%%bash\n",
    "wget -q https://s3.amazonaws.com/data.clue.io/repurposing/downloads/repurposing_samples_20200324.txt -O data/repurposing_samples_20200324.txt\n",
    "\n",
    "cat data/repurposing_samples_20200324.txt | grep -v \"^\\!\" | gzip > data/repurposing_samples_20200324_cleaned.txt.gz\n",
    "\n",
    "rm data/repurposing_samples_20200324.txt\n",
    "\n",
    "wget -q https://s3.amazonaws.com/data.clue.io/repurposing/downloads/repurposing_drugs_20200324.txt -O data/repurposing_drugs_20200324.txt\n",
    "\n",
    "cat data/repurposing_drugs_20200324.txt | grep -v \"^\\!\" | gzip > data/repurposing_drugs_20200324_cleaned.txt.gz\n",
    "\n",
    "rm data/repurposing_drugs_20200324.txt"
   ]
  },
  {
   "attachments": {},
   "cell_type": "markdown",
   "metadata": {},
   "source": [
    "- Read in SMILES and pert_name from samples file\n",
    "- Standardize SMILES and get the corresponding InChIKey"
   ]
  },
  {
   "cell_type": "code",
   "execution_count": 17,
   "metadata": {
    "vscode": {
     "languageId": "shellscript"
    }
   },
   "outputs": [
    {
     "name": "stderr",
     "output_type": "stream",
     "text": [
      "INFO:root:Number of CPUs: 10\n",
      "  0%|          | 0/4 [00:00<?, ?it/s][06:12:36] WARNING: Omitted undefined stereo\n",
      "\n",
      " 25%|██▌       | 1/4 [00:01<00:04,  1.52s/it][06:12:36] WARNING: Omitted undefined stereo\n",
      "\n",
      "[06:12:36] WARNING: Omitted undefined stereo\n",
      "\n",
      "[06:12:36] WARNING: Omitted undefined stereo\n",
      "\n",
      "100%|██████████| 4/4 [00:01<00:00,  2.58it/s]\n"
     ]
    },
    {
     "name": "stdout",
     "output_type": "stream",
     "text": [
      "data/repurposing_samples_20200324_standardized.csv.gz\n"
     ]
    }
   ],
   "source": [
    "%%bash\n",
    "python \\\n",
    "    StandardizeMolecule.py \\\n",
    "    --num_cpu 10 \\\n",
    "    --limit_rows 10 \\\n",
    "    --augment \\\n",
    "    --input data/repurposing_samples_20200324_cleaned.txt.gz \\\n",
    "    --output data/repurposing_samples_20200324_standardized.csv.gz \\\n",
    "    run"
   ]
  },
  {
   "attachments": {},
   "cell_type": "markdown",
   "metadata": {},
   "source": [
    "# Create annotation file"
   ]
  },
  {
   "cell_type": "code",
   "execution_count": 7,
   "metadata": {},
   "outputs": [],
   "source": [
    "import pandas as pd"
   ]
  },
  {
   "attachments": {},
   "cell_type": "markdown",
   "metadata": {},
   "source": [
    "- Create a dictionary of InChIKey to pert_name"
   ]
  },
  {
   "cell_type": "code",
   "execution_count": 18,
   "metadata": {},
   "outputs": [],
   "source": [
    "inchikey__pert_iname = pd.read_csv(\"data/repurposing_samples_20200324_standardized.csv.gz\")\n",
    "inchikey__pert_iname = inchikey__pert_iname[['InChIKey_standardized', 'pert_iname']]\n",
    "inchikey__pert_iname.drop_duplicates(inplace=True)\n",
    "inchikey__pert_iname.rename(columns={'InChIKey_standardized': 'InChIKey'}, inplace=True)\n"
   ]
  },
  {
   "attachments": {},
   "cell_type": "markdown",
   "metadata": {},
   "source": [
    "- Read in drug annotations from drug file, indexed by pert_name\n",
    "- Create a single dataframe with pert_name, InChIKey, and drug annotations -- save this as `compound_annot_drug_full.csv`\n"
   ]
  },
  {
   "cell_type": "code",
   "execution_count": 19,
   "metadata": {},
   "outputs": [],
   "source": [
    "pert_iname__annotations = pd.read_csv(\"data/repurposing_drugs_20200324_cleaned.txt.gz\", sep=\"\\t\")\n",
    "\n",
    "inchikey__annotations = pd.merge(\n",
    "    inchikey__pert_iname, \n",
    "    pert_iname__annotations, \n",
    "    on='pert_iname', \n",
    "    how='inner')\n",
    "\n",
    "# save this as `compound_annot_drug_full.csv`\n",
    "\n",
    "inchikey__annotations.to_csv(\"data/compound_annot_drug_full.csv.gz\", index=False)\n"
   ]
  },
  {
   "attachments": {},
   "cell_type": "markdown",
   "metadata": {},
   "source": [
    "- Get InChIKey to JCP2022 mapping\n",
    "- Filter `compound_annot_drug_full.csv` to only include compounds that have a JCP2022 mapping -- save this as `compound_annot_drug.csv`"
   ]
  },
  {
   "cell_type": "code",
   "execution_count": 20,
   "metadata": {},
   "outputs": [
    {
     "data": {
      "text/plain": [
       "Metadata_InChIKey            HJORMJIFDVBMOB-UHFFFAOYSA-N\n",
       "Metadata_pert_iname                     (R)-(-)-rolipram\n",
       "Metadata_clinical_phase                          Phase 1\n",
       "Metadata_moa                 phosphodiesterase inhibitor\n",
       "Metadata_target            PDE4A|PDE4B|PDE4C|PDE4D|PDE5A\n",
       "Metadata_disease_area                                NaN\n",
       "Metadata_indication                                  NaN\n",
       "Name: 1, dtype: object"
      ]
     },
     "execution_count": 20,
     "metadata": {},
     "output_type": "execute_result"
    }
   ],
   "source": [
    "commit=\"0682dd2d52e4d68208ab4af3a0bd114ca557cb0e\"\n",
    "\n",
    "url = f\"https://raw.githubusercontent.com/jump-cellpainting/datasets/{commit}/metadata/compound.csv.gz\"\n",
    "\n",
    "compound = pd.read_csv(url)\n",
    "\n",
    "inchikey__annotations_filtered = inchikey__annotations.copy()\n",
    "\n",
    "inchikey__annotations_filtered.columns = \"Metadata_\" + inchikey__annotations_filtered.columns\n",
    "\n",
    "inchikey__annotations_filtered = inchikey__annotations_filtered[inchikey__annotations_filtered[\"Metadata_InChIKey\"].isin(compound[\"Metadata_InChIKey\"])]\n",
    "\n",
    "inchikey__annotations_filtered.to_csv(\"data/compound_annot_drug.csv.gz\", index=False)\n",
    "\n",
    "inchikey__annotations_filtered.iloc[0]"
   ]
  }
 ],
 "metadata": {
  "kernelspec": {
   "display_name": "Python 3",
   "language": "python",
   "name": "python3"
  },
  "language_info": {
   "codemirror_mode": {
    "name": "ipython",
    "version": 3
   },
   "file_extension": ".py",
   "mimetype": "text/x-python",
   "name": "python",
   "nbconvert_exporter": "python",
   "pygments_lexer": "ipython3",
   "version": "3.10.10"
  },
  "orig_nbformat": 4
 },
 "nbformat": 4,
 "nbformat_minor": 2
}
