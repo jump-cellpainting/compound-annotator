{
 "cells": [
  {
   "attachments": {},
   "cell_type": "markdown",
   "metadata": {},
   "source": [
    "# Create Drug Repurposing Hub annotation file"
   ]
  },
  {
   "attachments": {},
   "cell_type": "markdown",
   "metadata": {},
   "source": [
    "This notebook creates a Drug Repurposing Hub annotation file from the Drug Repurposing Hub data.\n",
    "\n",
    "Steps\n",
    "\n",
    "- Read in SMILES and pert_iname from samples file\n",
    "- Standardize SMILES and get the corresponding InChIKey\n",
    "- Create a dictionary of InChIKey to pert_iname\n",
    "- Read in drug annotations from drug file, indexed by pert_iname\n",
    "- Create a single dataframe with pert_iname, InChIKey, and drug annotations -- save this as `compound_annot_drug_full.csv`\n",
    "- Get InChIKey to JCP2022 mapping\n",
    "- Filter `compound_annot_drug_full.csv` to only include compounds that have a JCP2022 mapping -- save this as `compound_annot_drug.csv`"
   ]
  },
  {
   "attachments": {},
   "cell_type": "markdown",
   "metadata": {},
   "source": [
    "# Prepare data\n"
   ]
  },
  {
   "attachments": {},
   "cell_type": "markdown",
   "metadata": {},
   "source": [
    "These steps are run ahead of time and the results are saved to the `data` directory."
   ]
  },
  {
   "attachments": {},
   "cell_type": "markdown",
   "metadata": {},
   "source": [
    "```\n",
    "%%bash\n",
    "wget -q https://s3.amazonaws.com/data.clue.io/repurposing/downloads/repurposing_samples_20200324.txt -O data/repurposing_samples_20200324.txt\n",
    "\n",
    "cat data/repurposing_samples_20200324.txt | grep -v \"^\\!\" | gzip > data/repurposing_samples_20200324_cleaned.txt.gz\n",
    "\n",
    "rm data/repurposing_samples_20200324.txt\n",
    "\n",
    "wget -q https://s3.amazonaws.com/data.clue.io/repurposing/downloads/repurposing_drugs_20200324.txt -O data/repurposing_drugs_20200324.txt\n",
    "\n",
    "cat data/repurposing_drugs_20200324.txt | grep -v \"^\\!\" | gzip > data/repurposing_drugs_20200324_cleaned.txt.gz\n",
    "\n",
    "rm data/repurposing_drugs_20200324.txt\n",
    "```"
   ]
  },
  {
   "attachments": {},
   "cell_type": "markdown",
   "metadata": {},
   "source": [
    "- Read in SMILES and pert_iname from samples file\n",
    "- Standardize SMILES and get the corresponding InChIKey"
   ]
  },
  {
   "attachments": {},
   "cell_type": "markdown",
   "metadata": {},
   "source": [
    "```\n",
    "%%bash\n",
    "python \\\n",
    "    StandardizeMolecule.py \\\n",
    "    --num_cpu 14 \\\n",
    "    --augment \\\n",
    "    --input data/repurposing_samples_20200324_cleaned.txt.gz \\\n",
    "    --output data/repurposing_samples_20200324_standardized.csv.gz \\\n",
    "    run\n",
    "```"
   ]
  },
  {
   "attachments": {},
   "cell_type": "markdown",
   "metadata": {},
   "source": [
    "# Create annotation file"
   ]
  },
  {
   "cell_type": "code",
   "execution_count": 1,
   "metadata": {},
   "outputs": [],
   "source": [
    "import pandas as pd"
   ]
  },
  {
   "attachments": {},
   "cell_type": "markdown",
   "metadata": {},
   "source": [
    "- Create a dictionary of InChIKey to pert_iname"
   ]
  },
  {
   "cell_type": "code",
   "execution_count": 2,
   "metadata": {},
   "outputs": [],
   "source": [
    "inchikey__pert_iname = pd.read_csv(\"data/repurposing_samples_20200324_standardized.csv.gz\")\n",
    "inchikey__pert_iname = inchikey__pert_iname[['InChIKey_standardized', 'pert_iname']]\n",
    "inchikey__pert_iname.drop_duplicates(inplace=True)\n",
    "inchikey__pert_iname.rename(columns={'InChIKey_standardized': 'InChIKey'}, inplace=True)\n"
   ]
  },
  {
   "attachments": {},
   "cell_type": "markdown",
   "metadata": {},
   "source": [
    "- Read in drug annotations from drug file, indexed by pert_iname\n",
    "- Create a single dataframe with pert_iname, InChIKey, and drug annotations -- save this as `compound_annot_drug_full.csv`\n"
   ]
  },
  {
   "cell_type": "code",
   "execution_count": 3,
   "metadata": {},
   "outputs": [],
   "source": [
    "pert_iname__annotations = pd.read_csv(\"data/repurposing_drugs_20200324_cleaned.txt.gz\", sep=\"\\t\")\n",
    "\n",
    "inchikey__annotations = pd.merge(\n",
    "    inchikey__pert_iname, \n",
    "    pert_iname__annotations, \n",
    "    on='pert_iname', \n",
    "    how='inner')\n",
    "\n",
    "# save this as `compound_annot_drug_full.csv`\n",
    "\n",
    "inchikey__annotations.to_csv(\"data/compound_rephub_annot_full.csv.gz\", index=False)\n"
   ]
  },
  {
   "attachments": {},
   "cell_type": "markdown",
   "metadata": {},
   "source": [
    "- Get InChIKey to JCP2022 mapping\n",
    "- Filter `compound_annot_drug_full.csv` to only include compounds that have a JCP2022 mapping -- save this as `compound_annot_drug.csv`"
   ]
  },
  {
   "cell_type": "code",
   "execution_count": 4,
   "metadata": {},
   "outputs": [],
   "source": [
    "commit=\"0682dd2d52e4d68208ab4af3a0bd114ca557cb0e\"\n",
    "\n",
    "url = f\"https://raw.githubusercontent.com/jump-cellpainting/datasets/{commit}/metadata/compound.csv.gz\"\n",
    "\n",
    "compound = pd.read_csv(url)\n",
    "\n",
    "inchikey__annotations_filtered = inchikey__annotations.copy()\n",
    "\n",
    "inchikey__annotations_filtered.columns = \"Metadata_\" + inchikey__annotations_filtered.columns\n",
    "\n",
    "inchikey__annotations_filtered = inchikey__annotations_filtered[inchikey__annotations_filtered[\"Metadata_InChIKey\"].isin(compound[\"Metadata_InChIKey\"])]\n",
    "\n",
    "inchikey__annotations_filtered.to_csv(\"data/compound_rephub_annot.csv.gz\", index=False)"
   ]
  },
  {
   "attachments": {},
   "cell_type": "markdown",
   "metadata": {},
   "source": [
    "What does the annotation file look like?\n"
   ]
  },
  {
   "cell_type": "code",
   "execution_count": 5,
   "metadata": {},
   "outputs": [
    {
     "data": {
      "text/plain": [
       "Metadata_InChIKey            HJORMJIFDVBMOB-UHFFFAOYSA-N\n",
       "Metadata_pert_iname                     (R)-(-)-rolipram\n",
       "Metadata_clinical_phase                          Phase 1\n",
       "Metadata_moa                 phosphodiesterase inhibitor\n",
       "Metadata_target            PDE4A|PDE4B|PDE4C|PDE4D|PDE5A\n",
       "Metadata_disease_area                                NaN\n",
       "Metadata_indication                                  NaN\n",
       "Name: 1, dtype: object"
      ]
     },
     "execution_count": 5,
     "metadata": {},
     "output_type": "execute_result"
    }
   ],
   "source": [
    "inchikey__annotations_filtered.iloc[0]"
   ]
  },
  {
   "attachments": {},
   "cell_type": "markdown",
   "metadata": {},
   "source": [
    "Annotation file dimensions (unfiltered version)"
   ]
  },
  {
   "cell_type": "code",
   "execution_count": 16,
   "metadata": {},
   "outputs": [
    {
     "data": {
      "text/plain": [
       "(6776, 7)"
      ]
     },
     "execution_count": 16,
     "metadata": {},
     "output_type": "execute_result"
    }
   ],
   "source": [
    "inchikey__annotations.shape"
   ]
  },
  {
   "attachments": {},
   "cell_type": "markdown",
   "metadata": {},
   "source": [
    "Annotation file dimensions (filtered version)"
   ]
  },
  {
   "cell_type": "code",
   "execution_count": 17,
   "metadata": {},
   "outputs": [
    {
     "data": {
      "text/plain": [
       "(4846, 7)"
      ]
     },
     "execution_count": 17,
     "metadata": {},
     "output_type": "execute_result"
    }
   ],
   "source": [
    "inchikey__annotations_filtered.shape"
   ]
  },
  {
   "attachments": {},
   "cell_type": "markdown",
   "metadata": {},
   "source": [
    "How many unique `InChIKeys` in the annotation file?"
   ]
  },
  {
   "cell_type": "code",
   "execution_count": 18,
   "metadata": {},
   "outputs": [
    {
     "data": {
      "text/plain": [
       "4724"
      ]
     },
     "execution_count": 18,
     "metadata": {},
     "output_type": "execute_result"
    }
   ],
   "source": [
    "inchikey__annotations_filtered[\"Metadata_InChIKey\"].nunique()"
   ]
  },
  {
   "attachments": {},
   "cell_type": "markdown",
   "metadata": {},
   "source": [
    "How many unique `pert_iname` in the annotation file?"
   ]
  },
  {
   "cell_type": "code",
   "execution_count": 9,
   "metadata": {},
   "outputs": [
    {
     "data": {
      "text/plain": [
       "4846"
      ]
     },
     "execution_count": 9,
     "metadata": {},
     "output_type": "execute_result"
    }
   ],
   "source": [
    "inchikey__annotations_filtered[\"Metadata_pert_iname\"].nunique()"
   ]
  },
  {
   "attachments": {},
   "cell_type": "markdown",
   "metadata": {},
   "source": [
    "Mapping file dimensions"
   ]
  },
  {
   "cell_type": "code",
   "execution_count": 10,
   "metadata": {},
   "outputs": [
    {
     "data": {
      "text/plain": [
       "(6776, 2)"
      ]
     },
     "execution_count": 10,
     "metadata": {},
     "output_type": "execute_result"
    }
   ],
   "source": [
    "inchikey__pert_iname.shape"
   ]
  },
  {
   "attachments": {},
   "cell_type": "markdown",
   "metadata": {},
   "source": [
    "How many unique `pert_iname` in the mapping file?"
   ]
  },
  {
   "cell_type": "code",
   "execution_count": 11,
   "metadata": {},
   "outputs": [
    {
     "data": {
      "text/plain": [
       "6776"
      ]
     },
     "execution_count": 11,
     "metadata": {},
     "output_type": "execute_result"
    }
   ],
   "source": [
    "inchikey__pert_iname[\"pert_iname\"].nunique()"
   ]
  },
  {
   "attachments": {},
   "cell_type": "markdown",
   "metadata": {},
   "source": [
    "How many unique `InChIKey` in the mapping file?"
   ]
  },
  {
   "cell_type": "code",
   "execution_count": 12,
   "metadata": {},
   "outputs": [
    {
     "data": {
      "text/plain": [
       "6629"
      ]
     },
     "execution_count": 12,
     "metadata": {},
     "output_type": "execute_result"
    }
   ],
   "source": [
    "inchikey__pert_iname[\"InChIKey\"].nunique()"
   ]
  },
  {
   "attachments": {},
   "cell_type": "markdown",
   "metadata": {},
   "source": [
    "Report the list of `InChiKeys` that map to more than one `pert_iname`"
   ]
  },
  {
   "cell_type": "code",
   "execution_count": 25,
   "metadata": {},
   "outputs": [
    {
     "data": {
      "text/html": [
       "<div>\n",
       "<style scoped>\n",
       "    .dataframe tbody tr th:only-of-type {\n",
       "        vertical-align: middle;\n",
       "    }\n",
       "\n",
       "    .dataframe tbody tr th {\n",
       "        vertical-align: top;\n",
       "    }\n",
       "\n",
       "    .dataframe thead th {\n",
       "        text-align: right;\n",
       "    }\n",
       "</style>\n",
       "<table border=\"1\" class=\"dataframe\">\n",
       "  <thead>\n",
       "    <tr style=\"text-align: right;\">\n",
       "      <th></th>\n",
       "      <th>InChIKey</th>\n",
       "      <th>pert_iname</th>\n",
       "    </tr>\n",
       "  </thead>\n",
       "  <tbody>\n",
       "    <tr>\n",
       "      <th>0</th>\n",
       "      <td>ACWBQPMHZXGDFX-UHFFFAOYSA-N</td>\n",
       "      <td>LCZ696:valsartan</td>\n",
       "    </tr>\n",
       "    <tr>\n",
       "      <th>1</th>\n",
       "      <td>AHUXISVXKYLQOD-UHFFFAOYSA-N</td>\n",
       "      <td>cefradine:cephradine</td>\n",
       "    </tr>\n",
       "    <tr>\n",
       "      <th>2</th>\n",
       "      <td>AQHHHDLHHXJYJD-UHFFFAOYSA-N</td>\n",
       "      <td>propranolol:propranolol-(R):propranolol-(S)</td>\n",
       "    </tr>\n",
       "    <tr>\n",
       "      <th>3</th>\n",
       "      <td>AUYYCJSJGJYCDS-UHFFFAOYSA-N</td>\n",
       "      <td>liothyronine:liothyronine-(isomer)</td>\n",
       "    </tr>\n",
       "    <tr>\n",
       "      <th>4</th>\n",
       "      <td>AYEOSGBMQHXVER-UHFFFAOYSA-N</td>\n",
       "      <td>2,3-cis/exo-camphanediol:cis-exo-camphanediol-2,3</td>\n",
       "    </tr>\n",
       "    <tr>\n",
       "      <th>...</th>\n",
       "      <td>...</td>\n",
       "      <td>...</td>\n",
       "    </tr>\n",
       "    <tr>\n",
       "      <th>128</th>\n",
       "      <td>ZCIXFSVENQDMCK-UHFFFAOYSA-J</td>\n",
       "      <td>antimony-potassium:antimonyl</td>\n",
       "    </tr>\n",
       "    <tr>\n",
       "      <th>129</th>\n",
       "      <td>ZKLPARSLTMPFCP-UHFFFAOYSA-N</td>\n",
       "      <td>cetirizine:levocetirizine</td>\n",
       "    </tr>\n",
       "    <tr>\n",
       "      <th>130</th>\n",
       "      <td>ZSTCZWJCLIRCOJ-UHFFFAOYSA-N</td>\n",
       "      <td>RU-42173:zilpaterol</td>\n",
       "    </tr>\n",
       "    <tr>\n",
       "      <th>131</th>\n",
       "      <td>ZXERDUOLZKYMJM-UHFFFAOYSA-N</td>\n",
       "      <td>INT-747:obeticholic-acid</td>\n",
       "    </tr>\n",
       "    <tr>\n",
       "      <th>132</th>\n",
       "      <td>ZZVUWRFHKOJYTH-UHFFFAOYSA-N</td>\n",
       "      <td>dimenhydrinate:diphenhydramine</td>\n",
       "    </tr>\n",
       "  </tbody>\n",
       "</table>\n",
       "<p>133 rows × 2 columns</p>\n",
       "</div>"
      ],
      "text/plain": [
       "                        InChIKey  \\\n",
       "0    ACWBQPMHZXGDFX-UHFFFAOYSA-N   \n",
       "1    AHUXISVXKYLQOD-UHFFFAOYSA-N   \n",
       "2    AQHHHDLHHXJYJD-UHFFFAOYSA-N   \n",
       "3    AUYYCJSJGJYCDS-UHFFFAOYSA-N   \n",
       "4    AYEOSGBMQHXVER-UHFFFAOYSA-N   \n",
       "..                           ...   \n",
       "128  ZCIXFSVENQDMCK-UHFFFAOYSA-J   \n",
       "129  ZKLPARSLTMPFCP-UHFFFAOYSA-N   \n",
       "130  ZSTCZWJCLIRCOJ-UHFFFAOYSA-N   \n",
       "131  ZXERDUOLZKYMJM-UHFFFAOYSA-N   \n",
       "132  ZZVUWRFHKOJYTH-UHFFFAOYSA-N   \n",
       "\n",
       "                                            pert_iname  \n",
       "0                                     LCZ696:valsartan  \n",
       "1                                 cefradine:cephradine  \n",
       "2          propranolol:propranolol-(R):propranolol-(S)  \n",
       "3                   liothyronine:liothyronine-(isomer)  \n",
       "4    2,3-cis/exo-camphanediol:cis-exo-camphanediol-2,3  \n",
       "..                                                 ...  \n",
       "128                       antimony-potassium:antimonyl  \n",
       "129                          cetirizine:levocetirizine  \n",
       "130                                RU-42173:zilpaterol  \n",
       "131                           INT-747:obeticholic-acid  \n",
       "132                     dimenhydrinate:diphenhydramine  \n",
       "\n",
       "[133 rows x 2 columns]"
      ]
     },
     "execution_count": 25,
     "metadata": {},
     "output_type": "execute_result"
    }
   ],
   "source": [
    "inchikey_dup_counts = inchikey__pert_iname[\"InChIKey\"].value_counts().sort_values(ascending=False)\n",
    "inchikey_dup_counts = inchikey_dup_counts[inchikey_dup_counts > 1]\n",
    "inchikey_dup_counts\n",
    "\n",
    "inchikey__pert_iname_l = inchikey__pert_iname[inchikey__pert_iname[\"InChIKey\"].isin(inchikey_dup_counts.index)]\n",
    "inchikey__pert_iname_l\n",
    "inchikey__pert_iname_l = inchikey__pert_iname_l.groupby(\"InChIKey\")[\"pert_iname\"].apply(lambda x: \":\".join(x)).reset_index()\n",
    "inchikey__pert_iname_l"
   ]
  },
  {
   "attachments": {},
   "cell_type": "markdown",
   "metadata": {},
   "source": [
    "Do the same for the annotations file and report duplicates.\n",
    "Note that some of these annotations could be unreliable because the 2 (or more) `pert_iname`s corresponding to the same `InChIKey` could be different compounds."
   ]
  },
  {
   "cell_type": "code",
   "execution_count": 26,
   "metadata": {},
   "outputs": [
    {
     "data": {
      "text/html": [
       "<div>\n",
       "<style scoped>\n",
       "    .dataframe tbody tr th:only-of-type {\n",
       "        vertical-align: middle;\n",
       "    }\n",
       "\n",
       "    .dataframe tbody tr th {\n",
       "        vertical-align: top;\n",
       "    }\n",
       "\n",
       "    .dataframe thead th {\n",
       "        text-align: right;\n",
       "    }\n",
       "</style>\n",
       "<table border=\"1\" class=\"dataframe\">\n",
       "  <thead>\n",
       "    <tr style=\"text-align: right;\">\n",
       "      <th></th>\n",
       "      <th>Metadata_InChIKey</th>\n",
       "      <th>Metadata_pert_iname</th>\n",
       "      <th>Metadata_clinical_phase</th>\n",
       "      <th>Metadata_moa</th>\n",
       "      <th>Metadata_target</th>\n",
       "      <th>Metadata_disease_area</th>\n",
       "      <th>Metadata_indication</th>\n",
       "    </tr>\n",
       "  </thead>\n",
       "  <tbody>\n",
       "    <tr>\n",
       "      <th>0</th>\n",
       "      <td>ACWBQPMHZXGDFX-UHFFFAOYSA-N</td>\n",
       "      <td>LCZ696:valsartan</td>\n",
       "      <td>Launched:Launched</td>\n",
       "      <td>angiotensin receptor antagonist:angiotensin re...</td>\n",
       "      <td>:AGTR1</td>\n",
       "      <td>cardiology:cardiology</td>\n",
       "      <td>angioedema|hypotension:hypertension|congestive...</td>\n",
       "    </tr>\n",
       "    <tr>\n",
       "      <th>1</th>\n",
       "      <td>AHUXISVXKYLQOD-UHFFFAOYSA-N</td>\n",
       "      <td>cefradine:cephradine</td>\n",
       "      <td>Launched:Launched</td>\n",
       "      <td>bacterial cell wall synthesis inhibitor:bacter...</td>\n",
       "      <td>CYP3A4:</td>\n",
       "      <td>infectious disease|otolaryngology:infectious d...</td>\n",
       "      <td>respiratory tract infections|otitis|skin infec...</td>\n",
       "    </tr>\n",
       "    <tr>\n",
       "      <th>2</th>\n",
       "      <td>AQHHHDLHHXJYJD-UHFFFAOYSA-N</td>\n",
       "      <td>propranolol:propranolol-(R):propranolol-(S)</td>\n",
       "      <td>Launched:Preclinical:Preclinical</td>\n",
       "      <td>adrenergic receptor antagonist:adrenergic rece...</td>\n",
       "      <td>ADRB1|ADRB2:ADRB2|ADRB3:ADRB1|HTR1A|HTR5A|SLC10A1</td>\n",
       "      <td>cardiology|neurology/psychiatry::</td>\n",
       "      <td>hypertension|angina pectoris|migraine headache::</td>\n",
       "    </tr>\n",
       "    <tr>\n",
       "      <th>3</th>\n",
       "      <td>AUYYCJSJGJYCDS-UHFFFAOYSA-N</td>\n",
       "      <td>liothyronine:liothyronine-(isomer)</td>\n",
       "      <td>Launched:Preclinical</td>\n",
       "      <td>thyroid hormone stimulant:</td>\n",
       "      <td>THRA|THRB:</td>\n",
       "      <td>endocrinology:</td>\n",
       "      <td>hypothyroidism|myxedema coma:</td>\n",
       "    </tr>\n",
       "    <tr>\n",
       "      <th>4</th>\n",
       "      <td>BFOWVMZUKTYNPH-UHFFFAOYSA-N</td>\n",
       "      <td>cyanocobalamin:hydroxocobalamin:methylcobalami...</td>\n",
       "      <td>Launched:Launched:Phase 3:Launched</td>\n",
       "      <td>methylmalonyl CoA mutase stimulant|vitamin B:v...</td>\n",
       "      <td>MUT:::</td>\n",
       "      <td>hematology|infectious disease|gastroenterology...</td>\n",
       "      <td>anemia|fish tapeworm infestation|celiac diseas...</td>\n",
       "    </tr>\n",
       "    <tr>\n",
       "      <th>...</th>\n",
       "      <td>...</td>\n",
       "      <td>...</td>\n",
       "      <td>...</td>\n",
       "      <td>...</td>\n",
       "      <td>...</td>\n",
       "      <td>...</td>\n",
       "      <td>...</td>\n",
       "    </tr>\n",
       "    <tr>\n",
       "      <th>105</th>\n",
       "      <td>YUTJCNNFTOIOGT-UHFFFAOYSA-N</td>\n",
       "      <td>anthralin:dithranol</td>\n",
       "      <td>Launched:Launched</td>\n",
       "      <td>DNA synthesis inhibitor:DNA synthesis inhibitor</td>\n",
       "      <td>:</td>\n",
       "      <td>dermatology:dermatology</td>\n",
       "      <td>psoriasis:psoriasis</td>\n",
       "    </tr>\n",
       "    <tr>\n",
       "      <th>106</th>\n",
       "      <td>YXSLJKQTIDHPOT-UHFFFAOYSA-N</td>\n",
       "      <td>atracurium:cisatracurium</td>\n",
       "      <td>Launched:Launched</td>\n",
       "      <td>acetylcholine receptor antagonist:acetylcholin...</td>\n",
       "      <td>:CHRNA2</td>\n",
       "      <td>critical care|neurology/psychiatry:neurology/p...</td>\n",
       "      <td>endotracheal intubation|muscle relaxant:muscle...</td>\n",
       "    </tr>\n",
       "    <tr>\n",
       "      <th>107</th>\n",
       "      <td>ZKLPARSLTMPFCP-UHFFFAOYSA-N</td>\n",
       "      <td>cetirizine:levocetirizine</td>\n",
       "      <td>Launched:Launched</td>\n",
       "      <td>histamine receptor antagonist:histamine recept...</td>\n",
       "      <td>HRH1:HRH1</td>\n",
       "      <td>allergy:allergy</td>\n",
       "      <td>allergic rhinitis:allergic rhinitis|urticaria</td>\n",
       "    </tr>\n",
       "    <tr>\n",
       "      <th>108</th>\n",
       "      <td>ZXERDUOLZKYMJM-UHFFFAOYSA-N</td>\n",
       "      <td>INT-747:obeticholic-acid</td>\n",
       "      <td>Phase 3:Launched</td>\n",
       "      <td>FXR agonist:FXR agonist</td>\n",
       "      <td>:NR1H4</td>\n",
       "      <td>:gastroenterology</td>\n",
       "      <td>:primary biliary cholangitis</td>\n",
       "    </tr>\n",
       "    <tr>\n",
       "      <th>109</th>\n",
       "      <td>ZZVUWRFHKOJYTH-UHFFFAOYSA-N</td>\n",
       "      <td>dimenhydrinate:diphenhydramine</td>\n",
       "      <td>Launched:Launched</td>\n",
       "      <td>histamine receptor antagonist:histamine recept...</td>\n",
       "      <td>HRH1:HRH1</td>\n",
       "      <td>neurology/psychiatry|gastroenterology:neurolog...</td>\n",
       "      <td>motion sickness|nausea|vomiting:headache</td>\n",
       "    </tr>\n",
       "  </tbody>\n",
       "</table>\n",
       "<p>110 rows × 7 columns</p>\n",
       "</div>"
      ],
      "text/plain": [
       "               Metadata_InChIKey  \\\n",
       "0    ACWBQPMHZXGDFX-UHFFFAOYSA-N   \n",
       "1    AHUXISVXKYLQOD-UHFFFAOYSA-N   \n",
       "2    AQHHHDLHHXJYJD-UHFFFAOYSA-N   \n",
       "3    AUYYCJSJGJYCDS-UHFFFAOYSA-N   \n",
       "4    BFOWVMZUKTYNPH-UHFFFAOYSA-N   \n",
       "..                           ...   \n",
       "105  YUTJCNNFTOIOGT-UHFFFAOYSA-N   \n",
       "106  YXSLJKQTIDHPOT-UHFFFAOYSA-N   \n",
       "107  ZKLPARSLTMPFCP-UHFFFAOYSA-N   \n",
       "108  ZXERDUOLZKYMJM-UHFFFAOYSA-N   \n",
       "109  ZZVUWRFHKOJYTH-UHFFFAOYSA-N   \n",
       "\n",
       "                                   Metadata_pert_iname  \\\n",
       "0                                     LCZ696:valsartan   \n",
       "1                                 cefradine:cephradine   \n",
       "2          propranolol:propranolol-(R):propranolol-(S)   \n",
       "3                   liothyronine:liothyronine-(isomer)   \n",
       "4    cyanocobalamin:hydroxocobalamin:methylcobalami...   \n",
       "..                                                 ...   \n",
       "105                                anthralin:dithranol   \n",
       "106                           atracurium:cisatracurium   \n",
       "107                          cetirizine:levocetirizine   \n",
       "108                           INT-747:obeticholic-acid   \n",
       "109                     dimenhydrinate:diphenhydramine   \n",
       "\n",
       "                Metadata_clinical_phase  \\\n",
       "0                     Launched:Launched   \n",
       "1                     Launched:Launched   \n",
       "2      Launched:Preclinical:Preclinical   \n",
       "3                  Launched:Preclinical   \n",
       "4    Launched:Launched:Phase 3:Launched   \n",
       "..                                  ...   \n",
       "105                   Launched:Launched   \n",
       "106                   Launched:Launched   \n",
       "107                   Launched:Launched   \n",
       "108                    Phase 3:Launched   \n",
       "109                   Launched:Launched   \n",
       "\n",
       "                                          Metadata_moa  \\\n",
       "0    angiotensin receptor antagonist:angiotensin re...   \n",
       "1    bacterial cell wall synthesis inhibitor:bacter...   \n",
       "2    adrenergic receptor antagonist:adrenergic rece...   \n",
       "3                           thyroid hormone stimulant:   \n",
       "4    methylmalonyl CoA mutase stimulant|vitamin B:v...   \n",
       "..                                                 ...   \n",
       "105    DNA synthesis inhibitor:DNA synthesis inhibitor   \n",
       "106  acetylcholine receptor antagonist:acetylcholin...   \n",
       "107  histamine receptor antagonist:histamine recept...   \n",
       "108                            FXR agonist:FXR agonist   \n",
       "109  histamine receptor antagonist:histamine recept...   \n",
       "\n",
       "                                       Metadata_target  \\\n",
       "0                                               :AGTR1   \n",
       "1                                              CYP3A4:   \n",
       "2    ADRB1|ADRB2:ADRB2|ADRB3:ADRB1|HTR1A|HTR5A|SLC10A1   \n",
       "3                                           THRA|THRB:   \n",
       "4                                               MUT:::   \n",
       "..                                                 ...   \n",
       "105                                                  :   \n",
       "106                                            :CHRNA2   \n",
       "107                                          HRH1:HRH1   \n",
       "108                                             :NR1H4   \n",
       "109                                          HRH1:HRH1   \n",
       "\n",
       "                                 Metadata_disease_area  \\\n",
       "0                                cardiology:cardiology   \n",
       "1    infectious disease|otolaryngology:infectious d...   \n",
       "2                    cardiology|neurology/psychiatry::   \n",
       "3                                       endocrinology:   \n",
       "4    hematology|infectious disease|gastroenterology...   \n",
       "..                                                 ...   \n",
       "105                            dermatology:dermatology   \n",
       "106  critical care|neurology/psychiatry:neurology/p...   \n",
       "107                                    allergy:allergy   \n",
       "108                                  :gastroenterology   \n",
       "109  neurology/psychiatry|gastroenterology:neurolog...   \n",
       "\n",
       "                                   Metadata_indication  \n",
       "0    angioedema|hypotension:hypertension|congestive...  \n",
       "1    respiratory tract infections|otitis|skin infec...  \n",
       "2     hypertension|angina pectoris|migraine headache::  \n",
       "3                        hypothyroidism|myxedema coma:  \n",
       "4    anemia|fish tapeworm infestation|celiac diseas...  \n",
       "..                                                 ...  \n",
       "105                                psoriasis:psoriasis  \n",
       "106  endotracheal intubation|muscle relaxant:muscle...  \n",
       "107      allergic rhinitis:allergic rhinitis|urticaria  \n",
       "108                       :primary biliary cholangitis  \n",
       "109           motion sickness|nausea|vomiting:headache  \n",
       "\n",
       "[110 rows x 7 columns]"
      ]
     },
     "execution_count": 26,
     "metadata": {},
     "output_type": "execute_result"
    }
   ],
   "source": [
    "inchikey__annotations_filtered_l = inchikey__annotations_filtered[inchikey__annotations_filtered[\"Metadata_InChIKey\"].isin(inchikey_dup_counts.index)]\n",
    "inchikey__annotations_filtered_l = inchikey__annotations_filtered_l.fillna('')\n",
    "inchikey__annotations_filtered_l = inchikey__annotations_filtered_l.groupby(\"Metadata_InChIKey\").agg(lambda x: \":\".join(x)).reset_index()\n",
    "\n",
    "\n",
    "inchikey__annotations_filtered_l.to_csv(\"data/repurposing_duplicates.csv\", index=False)\n",
    "\n",
    "inchikey__annotations_filtered_l"
   ]
  }
 ],
 "metadata": {
  "kernelspec": {
   "display_name": "Python 3",
   "language": "python",
   "name": "python3"
  },
  "language_info": {
   "codemirror_mode": {
    "name": "ipython",
    "version": 3
   },
   "file_extension": ".py",
   "mimetype": "text/x-python",
   "name": "python",
   "nbconvert_exporter": "python",
   "pygments_lexer": "ipython3",
   "version": "3.10.10"
  },
  "orig_nbformat": 4
 },
 "nbformat": 4,
 "nbformat_minor": 2
}
